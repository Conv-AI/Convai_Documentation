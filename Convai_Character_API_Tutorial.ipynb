{
  "nbformat": 4,
  "nbformat_minor": 0,
  "metadata": {
    "colab": {
      "provenance": [],
      "authorship_tag": "ABX9TyOoqc5x2L20DmXsNLPQUngj",
      "include_colab_link": true
    },
    "kernelspec": {
      "name": "python3",
      "display_name": "Python 3"
    },
    "language_info": {
      "name": "python"
    }
  },
  "cells": [
    {
      "cell_type": "markdown",
      "metadata": {
        "id": "view-in-github",
        "colab_type": "text"
      },
      "source": [
        "<a href=\"https://colab.research.google.com/github/Conv-AI/Convai_Documentation/blob/main/Convai_Character_API_Tutorial.ipynb\" target=\"_parent\"><img src=\"https://colab.research.google.com/assets/colab-badge.svg\" alt=\"Open In Colab\"/></a>"
      ]
    },
    {
      "cell_type": "markdown",
      "source": [
        "# Convai Character API Tutorial\n",
        "\n",
        "This interactive python notebook consists of code snippets that illustrates the different API endpoints related to creation and modification of characters along with interactions possible with the character.\n",
        "\n",
        "In the notebook, we will carry out the following tasks:\n",
        "\n",
        "\n",
        "1.   Create a character\n",
        "2.   Modify the character\n",
        "3.   Start a conversation with the character\n",
        "4.   Delete the character\n",
        "\n",
        "\n",
        "Note:\n",
        "1. Before moving on with this tutorial, remember to get your API-Key from the profile section.\n",
        "2. All characters are referenced by a **unique ID**, which is essential for all interactions with the character.\n",
        "\n",
        "You can always refer to the documentation here for more details: [Link](https://docs.convai.com/api-docs/reference/api-reference/character-api)"
      ],
      "metadata": {
        "id": "FigMLx_0j2is"
      }
    },
    {
      "cell_type": "markdown",
      "source": [
        "### Imports"
      ],
      "metadata": {
        "id": "u5YczshMLgqt"
      }
    },
    {
      "cell_type": "code",
      "source": [
        "import requests\n",
        "import json\n",
        "import os\n",
        "import base64\n",
        "from IPython.display import Audio, display"
      ],
      "metadata": {
        "id": "5g1U2Jn8LlHQ"
      },
      "execution_count": 1,
      "outputs": []
    },
    {
      "cell_type": "markdown",
      "source": [
        "### Set up API key"
      ],
      "metadata": {
        "id": "rF_cJQehGuTD"
      }
    },
    {
      "cell_type": "code",
      "execution_count": 2,
      "metadata": {
        "id": "HjcheIkff6Rc"
      },
      "outputs": [],
      "source": [
        "os.environ[\"CONVAI_API_KEY\"]= \"<your-api-key>\""
      ]
    },
    {
      "cell_type": "markdown",
      "source": [
        "### Creating a character\n",
        "\n",
        "There are a few mandatory details we need to create a new character. Lets start by creating one of our own.\n",
        "\n",
        "Say you are creating a new character that will act as a support NPC for the main character in a rpg game you are working on. Its decided that it will be a **male character**, named **Nova** with a simple background setup of an **adventurer from some kingdom**. Lets arrange out these information:\n",
        "<br>\n",
        "\n",
        "*   **Name:** Nova\n",
        "*   **Backstory:** Nova was born in the Eastern Kingdom of Grabisco, the city of Rumbalara. His father, an adventurer, taught him everything he knew about combat, thievery, and adventuring. Nova had his father’s love of the arts, and he was particularly drawn to the magic arts. When he was old enough, he traveled with his father to the western lands of Grabisco. He stayed with the group of adventurers until they came to Rumbalara and then left to continue his adventures. Now he is traveling with his girlfriend, Epiphany, in search of his first band of adventurers.\n",
        "*   **Voice:** Male\n",
        "\n",
        "Note: For the list of avaialable voices, please refer to this list: [Voices](https://docs.convai.com/api-docs/reference/api-reference/text-to-speech-api#list-of-available-voices-and-their-supported-audio-file-encodings)\n",
        "\n",
        "With the above details at hand we are ready to create a new character."
      ],
      "metadata": {
        "id": "iKhheYCNHvTi"
      }
    },
    {
      "cell_type": "code",
      "source": [
        "# Initializing a default character id for the new character to be created, to be used throught the notebook.\n",
        "CHARACTER_ID = \"\"\n",
        "CHARACTER_NAME = \"Nova\""
      ],
      "metadata": {
        "id": "Ju-7f9fmNUI5"
      },
      "execution_count": 3,
      "outputs": []
    },
    {
      "cell_type": "code",
      "source": [
        "CREATE_CHARACTER_URL = \"https://api.convai.com/character/create\"\n",
        "\n",
        "payload = json.dumps({\n",
        "  \"charName\": \"Nova\",\n",
        "  \"voiceType\": \"MALE\",\n",
        "  \"backstory\": \"Nova was born in the Eastern Kingdom of Grabisco, the city of Rumbalara. His father, an adventurer, taught him everything he knew about combat, thievery, and adventuring. Nova had his father’s love of the arts, and he was particularly drawn to the magic arts. When he was old enough, he traveled with his father to the western lands of Grabisco. He stayed with the group of adventurers until they came to Rumbalara and then left to continue his adventures. Now he is traveling with his girlfriend, Epiphany, in search of his first band of adventurers.\"\n",
        "})\n",
        "headers = {\n",
        "  \"CONVAI-API-KEY\": os.getenv(\"CONVAI_API_KEY\"),\n",
        "  \"Content-Type\": \"application/json\"\n",
        "}\n",
        "\n",
        "response = requests.request(\"POST\", CREATE_CHARACTER_URL, headers=headers, data=payload)\n",
        "\n",
        "if response.status_code == 200:\n",
        "  print(\"New character created\")\n",
        "\n",
        "  # A successful request will return a unique id for the character created.\n",
        "  data = response.json()\n",
        "  print(\"Character ID: \", data[\"charID\"])\n",
        "  CHARACTER_ID = data[\"charID\"]\n",
        "\n",
        "else:\n",
        "  print(\"Failed to create new character\")\n",
        "\n",
        "  data = response.json()\n",
        "  print(\"Error: \", data[\"ERROR\"])"
      ],
      "metadata": {
        "colab": {
          "base_uri": "https://localhost:8080/",
          "height": 252
        },
        "id": "ih-oviEDLYe7",
        "outputId": "c1c865fa-80c0-4059-c6cd-0beec88bcaaf"
      },
      "execution_count": 4,
      "outputs": [
        {
          "output_type": "stream",
          "name": "stdout",
          "text": [
            "New character created\n"
          ]
        },
        {
          "output_type": "error",
          "ename": "KeyError",
          "evalue": "ignored",
          "traceback": [
            "\u001b[0;31m---------------------------------------------------------------------------\u001b[0m",
            "\u001b[0;31mKeyError\u001b[0m                                  Traceback (most recent call last)",
            "\u001b[0;32m<ipython-input-4-641c7e318467>\u001b[0m in \u001b[0;36m<module>\u001b[0;34m\u001b[0m\n\u001b[1;32m     18\u001b[0m   \u001b[0;31m# A successful request will return a unique id for the character created.\u001b[0m\u001b[0;34m\u001b[0m\u001b[0;34m\u001b[0m\u001b[0;34m\u001b[0m\u001b[0m\n\u001b[1;32m     19\u001b[0m   \u001b[0mdata\u001b[0m \u001b[0;34m=\u001b[0m \u001b[0mresponse\u001b[0m\u001b[0;34m.\u001b[0m\u001b[0mjson\u001b[0m\u001b[0;34m(\u001b[0m\u001b[0;34m)\u001b[0m\u001b[0;34m\u001b[0m\u001b[0;34m\u001b[0m\u001b[0m\n\u001b[0;32m---> 20\u001b[0;31m   \u001b[0mprint\u001b[0m\u001b[0;34m(\u001b[0m\u001b[0;34m\"Character ID: \"\u001b[0m\u001b[0;34m,\u001b[0m \u001b[0mdata\u001b[0m\u001b[0;34m[\u001b[0m\u001b[0;34m\"charID\"\u001b[0m\u001b[0;34m]\u001b[0m\u001b[0;34m)\u001b[0m\u001b[0;34m\u001b[0m\u001b[0;34m\u001b[0m\u001b[0m\n\u001b[0m\u001b[1;32m     21\u001b[0m   \u001b[0mCHARACTER_ID\u001b[0m \u001b[0;34m=\u001b[0m \u001b[0mdata\u001b[0m\u001b[0;34m[\u001b[0m\u001b[0;34m\"charID\"\u001b[0m\u001b[0;34m]\u001b[0m\u001b[0;34m\u001b[0m\u001b[0;34m\u001b[0m\u001b[0m\n\u001b[1;32m     22\u001b[0m \u001b[0;34m\u001b[0m\u001b[0m\n",
            "\u001b[0;31mKeyError\u001b[0m: 'charID'"
          ]
        }
      ]
    },
    {
      "cell_type": "markdown",
      "source": [
        "### Modifying the character details\n",
        "\n",
        "With the new character created, we might have to update some details of the character at some point. This can be achieved by a simle call to the corresponding endpoint and providing the necessary details.\n",
        "\n",
        "Let's say, we need to update a small detail in the character backstory, which is to update the name of the character's girlfriend from **Epiphany** to **Shirley**. Thus the updated backstory should be:\n",
        "\n",
        "\n",
        "*   **Backstory:** Nova was born in the Eastern Kingdom of Grabisco, the city of Rumbalara. His father, an adventurer, taught him everything he knew about combat, thievery, and adventuring. Nova had his father’s love of the arts, and he was particularly drawn to the magic arts. When he was old enough, he traveled with his father to the western lands of Grabisco. He stayed with the group of adventurers until they came to Rumbalara and then left to continue his adventures. Now he is traveling with his girlfriend, Shirley, in search of his first band of adventurers.\n",
        "\n",
        "We execute the next set of code to update the details."
      ],
      "metadata": {
        "id": "NZVCo2jwjo8b"
      }
    },
    {
      "cell_type": "code",
      "source": [
        "MODIFY_CHARACTER_URL = \"https://api.convai.com/character/update\"\n",
        "\n",
        "payload = json.dumps({\n",
        "  \"charID\": \"<character ID>\",\n",
        "  \"backstory\": \"Nova was born in the Eastern Kingdom of Grabisco, the city of Rumbalara. His father, an adventurer, taught him everything he knew about combat, thievery, and adventuring. Nova had his father’s love of the arts, and he was particularly drawn to the magic arts. When he was old enough, he traveled with his father to the western lands of Grabisco. He stayed with the group of adventurers until they came to Rumbalara and then left to continue his adventures. Now he is traveling with his girlfriend, Shirley, in search of his first band of adventurers.\",\n",
        "})\n",
        "headers = {\n",
        "  \"CONVAI-API-KEY\": os.getenv(\"CONVAI_API_KEY\"),\n",
        "  \"Content-Type\": \"application/json\"\n",
        "}\n",
        "\n",
        "response = requests.request(\"POST\", MODIFY_CHARACTER_URL, headers=headers, data=payload)\n",
        "\n",
        "if response.status_code == 200:\n",
        "  print(\"Character details updated\")\n",
        "\n",
        "  # A successful request will return SUCCESS as status.\n",
        "  data = response.json()\n",
        "  print(\"Update Status: \", data[\"STATUS\"])\n",
        "\n",
        "else:\n",
        "  print(\"Failed to create new character\")\n",
        "\n",
        "  data = response.json()\n",
        "  print(\"Error: \", data[\"ERROR\"])\n"
      ],
      "metadata": {
        "id": "A7oXgAMon1VA"
      },
      "execution_count": null,
      "outputs": []
    },
    {
      "cell_type": "markdown",
      "source": [
        "The above code can be used to update any detail of the character along with the character's voice, by providing the correpsonding character-id."
      ],
      "metadata": {
        "id": "BZlEreI7pvs7"
      }
    },
    {
      "cell_type": "markdown",
      "source": [
        "### Conversing with the character\n",
        "\n",
        "TO start a conversation with the character, we need to understand a few things and provide the required details.\n",
        "\n",
        "1.   Firstly, a character-id is essential to converse with a character. Kinda Obvious.\n",
        "2.   Next, everytime we start conversing with a character, we create a **session**. A **session** is generally a group of a few back-and-forth conversation between the user and the character. They are referenced by the attribute called **sessionID**. This helps maintain context of conversation and extract relevant information from the chat-history belonging to the session. \n",
        "3.  To start a new session, we start by providing **sessionID** as **\"-1\"**, for the system to understand that a new set of conversation is starting. To continue an old conversation session, we pass the sessionID from that conversation. The system returns back a value for the sessionID, based on therequirement. If we are indicating the start of a new session, it returns a new **sessionID** otherwise it returns the old same value as passed in the request. Simple as that.\n",
        "4.  The response from our API contains both the response and also the audio file of the respons from the character. To, opt out of receiving this audio data, we can set a flag attrbute called **voiceResponse** as **\"false\"**.\n",
        "5.  A very crucial point to remember is that the audio data is returned as a base64 encoded data as a value of the **audio** key in the returned json data. The following code will show you how to handle the data.\n",
        "\n",
        "While, the above instructions might look a little confusing, I suggest you follow along the code to get a better understanding."
      ],
      "metadata": {
        "id": "lKfFBrKrqChW"
      }
    },
    {
      "cell_type": "code",
      "source": [
        "'''\n",
        "We will try to execute a series of conversation with the character in the following lines.\n",
        "Everytime we execute this block, we will create a new session for conversation. So we set \"sessionID\" as -1\n",
        "'''\n",
        "SESSION_ID = \"-1\"\n",
        "CHARACTER_RESPONSE_URL = \"https://api.convai.com/character/getResponse\"\n",
        "VOICE_REQUIRED_FLAG = \"True\"\n",
        "\n",
        "while(True):\n",
        "  userText = input(\"User: \") # The user enter whatever it wants to say to the character.\n",
        "\n",
        "  '''\n",
        "  Let's add a break condition.\n",
        "  If the user enter \"/stop\" as input, we end the conversation streak.\n",
        "  '''\n",
        "  if userText == \"/stop\":\n",
        "    break\n",
        "\n",
        "  # Otherwise we continue with the required steps\n",
        "\n",
        "  payload={\n",
        "    'userText': userText,\n",
        "    'charID': CHARACTER_ID,\n",
        "    'sessionID': SESSION_ID,\n",
        "    'voiceResponse': VOICE_REQUIRED_FLAG\n",
        "  }\n",
        "\n",
        "  headers = {\n",
        "  \"CONVAI-API-KEY\": os.getenv(\"CONVAI_API_KEY\"),\n",
        "  }\n",
        "\n",
        "  response = requests.request(\"POST\", CHARACTER_RESPONSE_URL, headers=headers, data=payload)\n",
        "\n",
        "  if response.status_code == 200:   # this indicates that the request has been processed succesfully\n",
        "    data = response.json()  # Read the JSON data from the response\n",
        "\n",
        "    # Display the reponse of the character to the user\n",
        "    character_response = data[\"text\"]\n",
        "    print(CHARACTER_NAME+\": \"+character_response)\n",
        "\n",
        "    '''\n",
        "    Remember Points 2 & 3, where we dicussed a lot on \"session\" and \"sessionID\", here we are going to\n",
        "    handle that.\n",
        "    Since, we have sent \"-1\" as sessionID for the very first conversation, the system understanda that\n",
        "    this is the start of a new conversation session. It returns a unique ID to mark this start. We\n",
        "    have to reuse that to continue conversations by maintaining context of the session.\n",
        "    If we send an old sessionID, the systems understands that the user is trying to maintain context\n",
        "    from a particular conversation session and thus returns the same sessionID back as validation.\n",
        "    '''\n",
        "    SESSION_ID = data[\"sessionID\"]\n",
        "\n",
        "    '''\n",
        "    Handling the audio data.\n",
        "    As you can see, we have passed \"True\" for \"voiceResponse\" attribute. Thus we will get back some data\n",
        "    in the \"audio\" attribute of the response. As mentioned in Point 5, the data is encoded in base64 format.\n",
        "    So the natural course of action should be to decode the data. Then we write that data into an audio file\n",
        "    to be played later.\n",
        "    '''\n",
        "    if VOICE_REQUIRED_FLAG:   # We move on with the next steps only if we are expecting some audio data\n",
        "      decode_string = base64.b64decode(data[\"audio\"])\n",
        "\n",
        "      with open('audioResponse.wav','wb') as f:\n",
        "        f.write(decode_string)\n",
        "      \n",
        "      display(Audio('/content/audioResponse.wav', autoplay=True))\n",
        "\n",
        "  else:   # The status_code for the response is something other than 200.\n",
        "    print(\"The conversation request has failed\")\n",
        "    \n",
        "    data = response.json()  # Read the JSON data from the response\n",
        "    print(\"ERROR: \", data[\"ERROR\"])\n"
      ],
      "metadata": {
        "id": "ZPQ1mqTIpvST"
      },
      "execution_count": null,
      "outputs": []
    },
    {
      "cell_type": "markdown",
      "source": [
        "That's it. You have successfully carried out conversation with your character. Do execute the above block again to converse again."
      ],
      "metadata": {
        "id": "dTKodWiKxbbr"
      }
    },
    {
      "cell_type": "markdown",
      "source": [
        "### Delete the character\n",
        "\n",
        "You are done with your character, and you have cold-heartedly decided to dispose him. Quite a sad day for everyone. We can make a requst to the required endpoint to carry out this task.\n",
        "\n",
        "Note: If you have followed the documentation, the **/delete** endpoint allows you to delete a character either by name or by the unique id. We prefer that you use the unique character-id to avoid any confusion. Sometimes, while using character-name, it will also delete other characters with the same name, whom you intended in keeping alive."
      ],
      "metadata": {
        "id": "k9bgLXpVy9aO"
      }
    },
    {
      "cell_type": "code",
      "source": [
        "DELETE_CHARACTER_URL = \"https://api.convai.com/character/delete\"\n",
        "\n",
        "payload = json.dumps({\n",
        "  \"charID\": CHARACTER_ID  # We have decided to kill our few minutes old character\n",
        "})\n",
        "\n",
        "headers = {\n",
        "  \"CONVAI-API-KEY\": os.getenv(\"CONVAI_API_KEY\"),\n",
        "  \"Content-Type\": \"application/json\"\n",
        "}\n",
        "\n",
        "response = requests.request(\"POST\", DELETE_CHARACTER_URL, headers=headers, data=payload)\n",
        "\n",
        "if response.status_code == 200:\n",
        "  print(\"Character deleted\")\n",
        "\n",
        "  # A successful request will return SUCCESS as status.\n",
        "  data = response.json()\n",
        "  print(\"Update Status: \", data[\"STATUS\"])\n",
        "\n",
        "else:\n",
        "  print(\"Failed to delete the character\")\n",
        "\n",
        "  data = response.json()\n",
        "  print(\"Error: \", data[\"ERROR\"])"
      ],
      "metadata": {
        "id": "97er3y6Xz4Vl"
      },
      "execution_count": null,
      "outputs": []
    },
    {
      "cell_type": "markdown",
      "source": [
        "And that wraps up the basic tutorial on the Character endpoint provided by Convai. You can now go and create your own character and use them in the application that you are building."
      ],
      "metadata": {
        "id": "MLFRac-S2PE4"
      }
    },
    {
      "cell_type": "code",
      "source": [
        "### "
      ],
      "metadata": {
        "id": "fVJ3v2Fx2zKV"
      },
      "execution_count": null,
      "outputs": []
    }
  ]
}