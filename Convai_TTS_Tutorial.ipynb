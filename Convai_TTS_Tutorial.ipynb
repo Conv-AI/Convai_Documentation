{
  "nbformat": 4,
  "nbformat_minor": 0,
  "metadata": {
    "colab": {
      "provenance": [],
      "authorship_tag": "ABX9TyPOw3LWWy4SkoxoYVxBkwUX",
      "include_colab_link": true
    },
    "kernelspec": {
      "name": "python3",
      "display_name": "Python 3"
    },
    "language_info": {
      "name": "python"
    }
  },
  "cells": [
    {
      "cell_type": "markdown",
      "metadata": {
        "id": "view-in-github",
        "colab_type": "text"
      },
      "source": [
        "<a href=\"https://colab.research.google.com/github/Conv-AI/Convai_Documentation/blob/main/Convai_TTS_Tutorial.ipynb\" target=\"_parent\"><img src=\"https://colab.research.google.com/assets/colab-badge.svg\" alt=\"Open In Colab\"/></a>"
      ]
    },
    {
      "cell_type": "markdown",
      "source": [
        "# Convai TTS API Tutorial\n",
        "\n",
        "This interactive python notebook consists of code snippets that illustrates the different API endpoints related to text-to-speech services provided by Convai.\n",
        "\n",
        "In the notebook, we will only deal with offline-transcription, where you can generate transcript by uploading an audio file.\n",
        "\n",
        "\n",
        "Note:\n",
        "1. Before moving on with this tutorial, remember to get your API-Key from the profile section.\n",
        "\n",
        "You can always refer to the documentation here for more details: [Link](https://docs.convai.com/api-docs/reference/api-reference/text-to-speech-api)"
      ],
      "metadata": {
        "id": "-f4yrw_Fdluy"
      }
    },
    {
      "cell_type": "markdown",
      "source": [
        "### Imports"
      ],
      "metadata": {
        "id": "1aU8N8DGd1QX"
      }
    },
    {
      "cell_type": "code",
      "execution_count": null,
      "metadata": {
        "id": "VDHeeBklcm4N"
      },
      "outputs": [],
      "source": [
        "import requests\n",
        "import json\n",
        "import os\n",
        "from IPython.display import Audio, display"
      ]
    },
    {
      "cell_type": "markdown",
      "source": [
        "### Set up API Key"
      ],
      "metadata": {
        "id": "VGNY8rvwd3Bq"
      }
    },
    {
      "cell_type": "code",
      "source": [
        "os.environ[\"CONVAI_API_KEY\"]= \"<your-api-key>\""
      ],
      "metadata": {
        "id": "T-lIYIQyd5j-"
      },
      "execution_count": null,
      "outputs": []
    },
    {
      "cell_type": "markdown",
      "source": [
        "### TTS Request\n",
        "\n",
        "This a pretty simple request made to the endpoint to get back the transcript. We can select from a range of available voices to generate audio in. The comple list of available voices can be referened here: [Voices](https://docs.convai.com/api-docs/reference/api-reference/text-to-speech-api#list-of-available-voices-and-their-supported-audio-file-encodings)\n",
        "\n",
        "Note: All the available voices by default generates audio in **wav** format. Please refer to the list above to check which audio formats can be generated for the selected voice. An inconsistent selection will result in a *400* status error.\n",
        "\n",
        "The rest of the code is self-explainatory."
      ],
      "metadata": {
        "id": "ofFhwMsRd7jn"
      }
    },
    {
      "cell_type": "code",
      "source": [
        "TTS_URL = \"https://api.convai.com/tts/\"\n",
        "\n",
        "payload = json.dumps({\n",
        "  \"transcript\": \"Hello World from us\",\n",
        "  \"voice\": \"SUMale 1\",\n",
        "  \"filename\": \"testAudio\",\n",
        "  \"encoding\": \"mp3\"\n",
        "})\n",
        "\n",
        "headers = {\n",
        "  \"CONVAI-API-KEY\": os.getenv(\"CONVAI_API_KEY\"),\n",
        "  \"Content-Type\": \"application/json\"\n",
        "}\n",
        "\n",
        "response = requests.request(\"POST\", TTS_URL, headers=headers, data=payload)\n",
        "\n",
        "with open('testAudio.mp3','wb') as f:\n",
        "  f.write(response.content)\n",
        "\n",
        "display(Audio('/content/testAudio.mp3', autoplay=True))"
      ],
      "metadata": {
        "id": "zA-BKw1Of0As"
      },
      "execution_count": null,
      "outputs": []
    }
  ]
}